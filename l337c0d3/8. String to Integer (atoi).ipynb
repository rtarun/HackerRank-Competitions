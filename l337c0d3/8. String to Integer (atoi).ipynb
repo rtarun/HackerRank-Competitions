{
 "cells": [
  {
   "cell_type": "markdown",
   "metadata": {},
   "source": [
    "Implement atoi to convert a string to an integer.\n",
    "\n",
    "Hint: Carefully consider all possible input cases. If you want a challenge, please do not see below\n",
    "    and ask yourself what are the possible input cases.\n",
    "\n",
    "Notes: It is intended for this problem to be specified vaguely (ie, no given input specs). \n",
    "    You are responsible to gather all the input requirements up front.\n",
    "    \n",
    "\n",
    "    \n",
    "Requirements for atoi:\n",
    "The function first discards as many whitespace characters as \n",
    "necessary until the first non-whitespace character is found. \n",
    "Then, starting from this character, takes an optional initial plus \n",
    "or minus sign followed by as many numerical digits as possible, and interprets them as a numerical value.\n",
    "\n",
    "\n",
    "The string can contain additional characters after those that form the integral number, \n",
    "which are ignored and have no effect on the behavior of this function.\n",
    "\n",
    "\n",
    "If the first sequence of non-whitespace characters in str is not a valid integral number, \n",
    "or if no such sequence exists because either str is empty or it contains only whitespace characters, \n",
    "no conversion is performed.\n",
    "\n",
    "\n",
    "If no valid conversion could be performed, a zero value is returned. \n",
    "If the correct value is out of the range of representable values, \n",
    "INT_MAX (2147483647) or INT_MIN (-2147483648) is returned."
   ]
  },
  {
   "cell_type": "code",
   "execution_count": 73,
   "metadata": {
    "collapsed": false
   },
   "outputs": [],
   "source": [
    "class Solution(object):\n",
    "    def myAtoi(self, str):\n",
    "        \"\"\"\n",
    "        :type str: str\n",
    "        :rtype: int\n",
    "        \"\"\"\n",
    "        str = str.strip()\n",
    "        n = len(str)\n",
    "        \n",
    "        sign = 1\n",
    "        INT_MAX = 2147483647\n",
    "        \n",
    "        result = 0.1\n",
    "        \n",
    "        i = 0\n",
    "        \n",
    "        if n == 0:\n",
    "            return 0\n",
    "        else:\n",
    "            if str[i] == '-':\n",
    "                sign = -1\n",
    "                i+=1\n",
    "            else:\n",
    "                sign = 1\n",
    "                i+=1\n",
    "            \n",
    "            for j in range(i,n):\n",
    "                \n",
    "                if ((result > (INT_MAX)/ 10) or (result == (INT_MAX)/ 10 and int(str[j]) >= 8)):\n",
    "                    if sign == 1:\n",
    "                        return INT_MAX - 1\n",
    "                    else:\n",
    "                        return -INT_MAX\n",
    "                \n",
    "                \n",
    "                elif j == i:\n",
    "                    result = int(str[j])\n",
    "                else:\n",
    "                    result = (result*10)+int(str[j])\n",
    "                    \n",
    "            \n",
    "            return result*sign"
   ]
  },
  {
   "cell_type": "code",
   "execution_count": 74,
   "metadata": {
    "collapsed": false
   },
   "outputs": [
    {
     "name": "stdout",
     "output_type": "stream",
     "text": [
      "-143\n"
     ]
    }
   ],
   "source": [
    "s = Solution()\n",
    "s.myAtoi(\"    -143\")"
   ]
  },
  {
   "cell_type": "markdown",
   "metadata": {},
   "source": [
    "- Take care of the overflow conditions\n",
    "- Fails for:\n",
    "    Runtime Error Message:\n",
    "Line 37: ValueError: invalid literal for int() with base 10: '-'\n",
    "Last executed input:\n",
    "\"+-2\""
   ]
  }
 ],
 "metadata": {
  "kernelspec": {
   "display_name": "Python 3",
   "language": "python",
   "name": "python3"
  },
  "language_info": {
   "codemirror_mode": {
    "name": "ipython",
    "version": 3
   },
   "file_extension": ".py",
   "mimetype": "text/x-python",
   "name": "python",
   "nbconvert_exporter": "python",
   "pygments_lexer": "ipython3",
   "version": "3.5.1"
  }
 },
 "nbformat": 4,
 "nbformat_minor": 0
}
