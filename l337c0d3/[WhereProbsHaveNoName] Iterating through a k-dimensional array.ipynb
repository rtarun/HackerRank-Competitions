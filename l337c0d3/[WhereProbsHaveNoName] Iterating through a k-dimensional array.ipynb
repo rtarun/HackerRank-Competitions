{
 "cells": [
  {
   "cell_type": "markdown",
   "metadata": {},
   "source": [
    "Iterating through a k-dimensional array given size of each dimension in an array."
   ]
  },
  {
   "cell_type": "code",
   "execution_count": null,
   "metadata": {
    "collapsed": true
   },
   "outputs": [],
   "source": [
    "\n",
    "indexTracker = 1\n",
    "rows = len(matrix)\n",
    "columns = len(matrix[0])\n",
    "maxK = rows*columns\n",
    "\n",
    "for i in range(0,rows):\n",
    "    for j in range(0,columns):\n",
    "        if(indexTracker == k):\n",
    "            return matrix[i][j]\n",
    "        indexTracker+=1\n"
   ]
  }
 ],
 "metadata": {
  "kernelspec": {
   "display_name": "Python 3",
   "language": "python",
   "name": "python3"
  },
  "language_info": {
   "codemirror_mode": {
    "name": "ipython",
    "version": 3
   },
   "file_extension": ".py",
   "mimetype": "text/x-python",
   "name": "python",
   "nbconvert_exporter": "python",
   "pygments_lexer": "ipython3",
   "version": "3.5.1"
  }
 },
 "nbformat": 4,
 "nbformat_minor": 0
}
