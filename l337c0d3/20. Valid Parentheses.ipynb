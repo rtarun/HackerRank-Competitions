{
 "cells": [
  {
   "cell_type": "markdown",
   "metadata": {},
   "source": [
    "Given a string containing just the characters '(', ')', '{', '}', '[' and ']', determine if the input string is valid.\n",
    "\n",
    "The brackets must close in the correct order, \"()\" and \"()[]{}\" are all valid but \"(]\" and \"([)]\" are not."
   ]
  },
  {
   "cell_type": "code",
   "execution_count": 15,
   "metadata": {
    "collapsed": false
   },
   "outputs": [
    {
     "name": "stdout",
     "output_type": "stream",
     "text": [
      "False by length\n"
     ]
    }
   ],
   "source": [
    "class Solution(object):\n",
    "    def isValid(self, s):\n",
    "        \"\"\"\n",
    "        :type s: str\n",
    "        :rtype: bool\n",
    "        \"\"\"\n",
    "        if(len(s)%2 == 0):\n",
    "            tempList = []\n",
    "            for i in s:\n",
    "                if(i=='(' or i=='{' or i=='['):\n",
    "                    tempList.append(i)\n",
    "                else:\n",
    "                    tempList.pop()\n",
    "\n",
    "            if(tempList == []):\n",
    "                return True\n",
    "            else:\n",
    "                return False\n",
    "        \n",
    "        else:\n",
    "            return\"False by length\"\n",
    "        \n",
    "\n",
    "s = Solution()\n",
    "string = '({[]})(}('\n",
    "result = s.isValid(string)\n",
    "print(result)"
   ]
  },
  {
   "cell_type": "markdown",
   "metadata": {},
   "source": [
    "- Edge case not considered:\n",
    "    Runtime Error Message:\n",
    "Line 13: IndexError: pop from empty list\n",
    "Last executed input:\n",
    "\"]\"\n",
    "\n",
    "- Case not considered:\n",
    "Runtime Error Message:\n",
    "Line 14: IndexError: pop from empty list\n",
    "Last executed input:\n",
    "\")}{({))[{{[}\""
   ]
  }
 ],
 "metadata": {
  "kernelspec": {
   "display_name": "Python 3",
   "language": "python",
   "name": "python3"
  },
  "language_info": {
   "codemirror_mode": {
    "name": "ipython",
    "version": 3
   },
   "file_extension": ".py",
   "mimetype": "text/x-python",
   "name": "python",
   "nbconvert_exporter": "python",
   "pygments_lexer": "ipython3",
   "version": "3.5.1"
  }
 },
 "nbformat": 4,
 "nbformat_minor": 0
}
