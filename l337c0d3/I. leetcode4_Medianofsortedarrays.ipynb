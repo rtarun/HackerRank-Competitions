{
 "cells": [
  {
   "cell_type": "code",
   "execution_count": null,
   "metadata": {
    "collapsed": true
   },
   "outputs": [],
   "source": [
    "class Solution(object):\n",
    "    def binary_search(arr, x):\n",
    "        pass\n",
    "    def findMedianSortedArrays(self, m, n):\n",
    "        \"\"\"\n",
    "        :type nums1: List[int]\n",
    "        :type nums2: List[int]\n",
    "        :rtype: float\n",
    "        \"\"\"\n",
    "        if len(m) < len(n):\n",
    "            m, n = n, m\n",
    "\n",
    "        i = len(m) / 2\n",
    "        median = m[i]\n",
    "\n",
    "        j = binary_search(n, median) # position of median_m inside n\n",
    "\n",
    "        left_of_i = j+1\n",
    "        right_of_i = len(n) - j+1\n",
    "\n",
    "        delta = abs(left_of_i - right_of_i)\n",
    "\n",
    "        if left_of_i > right_of_i:\n",
    "\n",
    "            # move left\n",
    "            k, l = i-1, j-1\n",
    "            for x in range(1, delta):\n",
    "                if m[k] > n[l]:\n",
    "                    median = n[l]\n",
    "                    l -= 1\n",
    "                else:\n",
    "                    median = m[k]\n",
    "                    k -= 1\n",
    "            i = i - k\n",
    "        elif right_of_i > left_of_i:\n",
    "            # move right\n",
    "            k,l = i+1, j+1\n",
    "            for x in range(1, delta):\n",
    "                if m[k] > n[l]:\n",
    "                    median = n[l]\n",
    "                    l += 1\n",
    "                else:\n",
    "                    median = m[k]\n",
    "                    k += 1\n",
    "            i = i + k\n",
    "        else:\n",
    "            return median"
   ]
  }
 ],
 "metadata": {
  "kernelspec": {
   "display_name": "Python 3",
   "language": "python",
   "name": "python3"
  },
  "language_info": {
   "codemirror_mode": {
    "name": "ipython",
    "version": 3
   },
   "file_extension": ".py",
   "mimetype": "text/x-python",
   "name": "python",
   "nbconvert_exporter": "python",
   "pygments_lexer": "ipython3",
   "version": "3.5.1"
  }
 },
 "nbformat": 4,
 "nbformat_minor": 0
}
