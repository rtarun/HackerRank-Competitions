{
 "cells": [
  {
   "cell_type": "markdown",
   "metadata": {},
   "source": [
    "Implement pow(x, n)."
   ]
  },
  {
   "cell_type": "code",
   "execution_count": null,
   "metadata": {
    "collapsed": false
   },
   "outputs": [],
   "source": [
    "class Solution(object):\n",
    "    def myPow(self, x, n):\n",
    "        \"\"\"\n",
    "        :type x: float\n",
    "        :type n: int\n",
    "        :rtype: float\n",
    "        \"\"\"\n",
    "        \n",
    "        if (n == 0):\n",
    "            return 1\n",
    "        elif(n == 1):\n",
    "            return x\n",
    "        elif n % 2:\n",
    "            return self.myPow(x*x,(n-1)/2)*x\n",
    "        else:\n",
    "            return self.myPow(x*x,n/2)\n",
    "\n",
    "\n",
    "s = Solution()\n",
    "print(s.myPow(2,5))"
   ]
  },
  {
   "cell_type": "markdown",
   "metadata": {},
   "source": [
    "Notes:\n",
    "\n",
    "- Time complexity: O(log n)\n",
    "\n",
    "Lessons:\n",
    "- Think of a recursive solution in problems such as these where you can convert iteration into stack\n",
    "\n",
    "- separate out edge cases for optimal runtime"
   ]
  }
 ],
 "metadata": {
  "kernelspec": {
   "display_name": "Python 3",
   "language": "python",
   "name": "python3"
  },
  "language_info": {
   "codemirror_mode": {
    "name": "ipython",
    "version": 3
   },
   "file_extension": ".py",
   "mimetype": "text/x-python",
   "name": "python",
   "nbconvert_exporter": "python",
   "pygments_lexer": "ipython3",
   "version": "3.5.1"
  }
 },
 "nbformat": 4,
 "nbformat_minor": 0
}
