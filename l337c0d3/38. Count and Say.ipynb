{
 "cells": [
  {
   "cell_type": "code",
   "execution_count": 1,
   "metadata": {
    "collapsed": true
   },
   "outputs": [],
   "source": [
    "class Solution:\n",
    "    # @return a string\n",
    "    def count(self,s):\n",
    "        t=''; count=0; curr='#'\n",
    "        for i in s:\n",
    "            if i!=curr:\n",
    "                if curr!='#':\n",
    "                    t+=str(count)+curr\n",
    "                curr=i\n",
    "                count=1\n",
    "            else:\n",
    "                count+=1\n",
    "        t+=str(count)+curr\n",
    "        return t\n",
    "    def countAndSay(self, n):\n",
    "        s='1'\n",
    "        for i in range(2,n+1):\n",
    "            s=self.count(s)\n",
    "        return s\n",
    "    \n",
    "#    run lenght compression"
   ]
  },
  {
   "cell_type": "code",
   "execution_count": 5,
   "metadata": {
    "collapsed": false
   },
   "outputs": [
    {
     "name": "stdout",
     "output_type": "stream",
     "text": [
      "1\n",
      "11\n",
      "21\n",
      "1211\n",
      "111221\n"
     ]
    }
   ],
   "source": [
    "s = Solution()\n",
    "\n",
    "for i in range(1,6):\n",
    "    print(s.countAndSay(i))"
   ]
  }
 ],
 "metadata": {
  "kernelspec": {
   "display_name": "Python 3",
   "language": "python",
   "name": "python3"
  },
  "language_info": {
   "codemirror_mode": {
    "name": "ipython",
    "version": 3
   },
   "file_extension": ".py",
   "mimetype": "text/x-python",
   "name": "python",
   "nbconvert_exporter": "python",
   "pygments_lexer": "ipython3",
   "version": "3.5.1"
  }
 },
 "nbformat": 4,
 "nbformat_minor": 0
}
