{
 "cells": [
  {
   "cell_type": "code",
   "execution_count": null,
   "metadata": {
    "collapsed": true
   },
   "outputs": [],
   "source": [
    "\n",
    "https://leetcode.com/problems/symmetric-tree/\n",
    "\n",
    "# Given a binary tree, check whether it is a mirror of itself (ie, symmetric around its center).\n",
    "\n",
    "# For example, this binary tree [1,2,2,3,4,4,3] is symmetric:\n",
    "\n",
    "#     1\n",
    "#    / \\\n",
    "#   2   2\n",
    "#  / \\ / \\\n",
    "# 3  4 4  3\n",
    "#53 22 22 35\n",
    "\n",
    "# But the following [1,2,2,null,3,null,3] is not:\n",
    "#     1\n",
    "#    / \\\n",
    "#   2   2\n",
    "#    \\   \\\n",
    "#    3    3\n",
    "\n",
    "\n",
    "# Definition for a binary tree node.\n",
    "# class TreeNode(object):\n",
    "#     def __init__(self, x):\n",
    "#         self.val = x\n",
    "#         self.left = None\n",
    "#         self.right = None\n"
   ]
  },
  {
   "cell_type": "code",
   "execution_count": null,
   "metadata": {
    "collapsed": true
   },
   "outputs": [],
   "source": [
    "class Solution(object):\n",
    "    def isSymmetric(self, root):\n",
    "        \"\"\"\n",
    "        :type root: TreeNode\n",
    "        :rtype: bool\n",
    "        \"\"\"\n",
    "        data = self._bfs(root)\n",
    "        # make sure data is 1-indexed\n",
    "        data.insert(0, None)\n",
    "        return self._check_symmetry(data)\n",
    "    \n",
    "    def _check_symmetry(self, data):  # [None, 1,  2,2,   3,4,4,3]    \n",
    "        # max oriented heap: [None, 9, 8, 9, 7, 6, 6, 5\n",
    "        \n",
    "        #       9\n",
    "        #     8   9\n",
    "        #    7 6 6  5\n",
    "        p = 1\n",
    "        if len(data) < 2:\n",
    "            return True\n",
    "        level = 2\n",
    "        while p < len(data):\n",
    "            i = p+1\n",
    "            j = p+level-1\n",
    "            if len(data) < j: # unbalanced\n",
    "                return False\n",
    "            while i < j:\n",
    "                if data[i] != data[j]:\n",
    "                    return False\n",
    "                i += 1 #6\n",
    "                j -= 1 #5\n",
    "            p = p+level  # 8\n",
    "            level *= 2   # 8  \n",
    "        return True\n",
    "        \n",
    "    def _bfs(self, root):\n",
    "        if root is None:\n",
    "            return\n",
    "        out = []\n",
    "        queue = [root]\n",
    "        while len(queue):\n",
    "            x = queue.pop(0)\n",
    "            if x:\n",
    "                out.append(x.val)\n",
    "                queue.insert(x.left)\n",
    "                queue.insert(x.right)\n",
    "            else:\n",
    "                out.append(x)\n",
    "        return out"
   ]
  }
 ],
 "metadata": {
  "kernelspec": {
   "display_name": "Python 3",
   "language": "python",
   "name": "python3"
  },
  "language_info": {
   "codemirror_mode": {
    "name": "ipython",
    "version": 3
   },
   "file_extension": ".py",
   "mimetype": "text/x-python",
   "name": "python",
   "nbconvert_exporter": "python",
   "pygments_lexer": "ipython3",
   "version": "3.5.1"
  }
 },
 "nbformat": 4,
 "nbformat_minor": 0
}
