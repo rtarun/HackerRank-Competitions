{
 "cells": [
  {
   "cell_type": "markdown",
   "metadata": {},
   "source": [
    "378. Kth Smallest Element in a Sorted Matrix\n",
    "\n",
    "Given a n x n matrix where each of the rows and columns are sorted in ascending order, \n",
    "find the kth smallest element in the matrix.\n",
    "\n",
    "Note that it is the kth smallest element in the sorted order, not the kth distinct element."
   ]
  },
  {
   "cell_type": "code",
   "execution_count": 113,
   "metadata": {
    "collapsed": false
   },
   "outputs": [
    {
     "data": {
      "text/plain": [
       "5"
      ]
     },
     "execution_count": 113,
     "metadata": {},
     "output_type": "execute_result"
    }
   ],
   "source": [
    "class Solution(object):\n",
    "    def kthSmallest(self, matrix, k):\n",
    "        \"\"\"\n",
    "        :type matrix: List[List[int]]\n",
    "        :type k: int\n",
    "        :rtype: int\n",
    "        \"\"\"\n",
    "        indexTracker = 1\n",
    "        rows = len(matrix)\n",
    "        columns = len(matrix[0])\n",
    "        maxK = rows*columns\n",
    "\n",
    "# Essentially: convert k into the row, column index\n",
    "# algo:\n",
    "# Parse thru' all elements row by row, \n",
    "#     Increment the indexTracker while doing this\n",
    "#     When you hit Indextracker value same as k:\n",
    "#         return row and column indexes\n",
    "        errorMessage = \"Invalid k\"\n",
    "    \n",
    "        if((k<1) or (k>maxK)):\n",
    "            return errorMessage\n",
    "        \n",
    "        else:\n",
    "            for i in range(0,rows):\n",
    "                for j in range(0,columns):\n",
    "                    if(indexTracker == k):\n",
    "                        return matrix[i][j]\n",
    "                    indexTracker+=1\n",
    "    \n",
    "\n",
    "class Solution1(object):\n",
    "    def kthSmallest(self, matrix, k):\n",
    "        \"\"\"\n",
    "        :type matrix: List[List[int]]\n",
    "        :type k: int\n",
    "        :rtype: int\n",
    "        \"\"\"\n",
    "        indexTracker = 1\n",
    "        rows = len(matrix)\n",
    "        columns = len(matrix[0])\n",
    "        maxK = rows*columns\n",
    "\n",
    "# Essentially: convert k into the row, column index\n",
    "# algo:\n",
    "# Parse thru' all elements row by row, \n",
    "#     Increment the indexTracker while doing this\n",
    "#     When you hit Indextracker value same as k:\n",
    "#         return row and column indexes\n",
    "        errorMessage = \"Invalid k\"\n",
    "    \n",
    "        if((k<1) or (k>maxK)):\n",
    "            return errorMessage\n",
    "        else:    \n",
    "            matrixList = []\n",
    "\n",
    "            for i in range(0,rows):\n",
    "                for j in range(0,columns):\n",
    "                    matrixList.append(Matrix1[i][j])\n",
    "\n",
    "            matrixList.sort()\n",
    "            return matrixList[k-1]\n",
    "         \n",
    "                \n",
    "                \n",
    "        \n",
    "#         else:\n",
    "#             for i in range(0,rows):\n",
    "#                 for j in range(0,columns):\n",
    "#                     if(indexTracker == k):\n",
    "#                         return matrix[i][j]\n",
    "#                     indexTracker+=1\n",
    "\n",
    "\n",
    "\n",
    "    \n",
    "\n",
    "Matrix1 =[\n",
    "  [ 1,  5,  9],\n",
    "   [10, 11, 13],\n",
    "   [12, 13, 15]\n",
    "]\n",
    "\n",
    "s = Solution1()\n",
    "s.kthSmallest(Matrix1,2)\n",
    "\n",
    "# Lessons: didn't completely understand the 'sorted elements' condition\n"
   ]
  }
 ],
 "metadata": {
  "kernelspec": {
   "display_name": "Python 3",
   "language": "python",
   "name": "python3"
  },
  "language_info": {
   "codemirror_mode": {
    "name": "ipython",
    "version": 3
   },
   "file_extension": ".py",
   "mimetype": "text/x-python",
   "name": "python",
   "nbconvert_exporter": "python",
   "pygments_lexer": "ipython3",
   "version": "3.5.1"
  }
 },
 "nbformat": 4,
 "nbformat_minor": 0
}
