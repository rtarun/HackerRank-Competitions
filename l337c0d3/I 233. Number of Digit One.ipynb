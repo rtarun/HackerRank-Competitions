{
 "cells": [
  {
   "cell_type": "markdown",
   "metadata": {},
   "source": [
    "Given an integer n, count the total number of digit 1 appearing in all non-negative integers less than or equal to n.\n",
    "\n",
    "For example:\n",
    "Given n = 13,\n",
    "Return 6, because digit 1 occurred in the following numbers: 1, 10, 11, 12, 13."
   ]
  },
  {
   "cell_type": "code",
   "execution_count": null,
   "metadata": {
    "collapsed": true
   },
   "outputs": [],
   "source": [
    "def powcounter(n):\n",
    "    c = 0\n",
    "    while n > 0:  \n",
    "        x = n % 10\n",
    "        if x == 1:\n",
    "            c += 1\n",
    "        elif x == 0:\n",
    "            c += 1\n",
    "        n /= 10\n",
    "    return c\n",
    "\n",
    "def counter(x):\n",
    "    if x < 0:\n",
    "        return 0\n",
    "    c = 0\n",
    "    for i in range(1, x+1):\n",
    "        c += powcounter(i)\n",
    "\n"
   ]
  },
  {
   "cell_type": "markdown",
   "metadata": {},
   "source": [
    "This solution: O(nlogn)\n",
    "\n",
    "Implement in O(logn)"
   ]
  }
 ],
 "metadata": {
  "kernelspec": {
   "display_name": "Python 3",
   "language": "python",
   "name": "python3"
  },
  "language_info": {
   "codemirror_mode": {
    "name": "ipython",
    "version": 3
   },
   "file_extension": ".py",
   "mimetype": "text/x-python",
   "name": "python",
   "nbconvert_exporter": "python",
   "pygments_lexer": "ipython3",
   "version": "3.5.1"
  }
 },
 "nbformat": 4,
 "nbformat_minor": 0
}
