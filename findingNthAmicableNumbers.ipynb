{
 "cells": [
  {
   "cell_type": "code",
   "execution_count": null,
   "metadata": {
    "collapsed": true
   },
   "outputs": [],
   "source": [
    "#'amicable' numbers\n",
    "\n",
    "#220, 284\n",
    "\n",
    "#sum(1 2  4  5 10  11  20   22  44  55  110) = 284\n",
    "\n",
    "\n",
    "def find_amicables(nth_order):\n",
    "    amicable = 1\n",
    "    while nth_order > 0:\n",
    "        amicable = find_amicable(amicable)\n",
    "        a2 = sum(find_divisors(amicable))\n",
    "        if a2 > amicable:\n",
    "            amicable = a2\n",
    "        nth_order -= 1\n",
    "    return amicable, sum(find_divisors(amicable))\n",
    "\n",
    "\n",
    "def find_amicable(lower_bound):\n",
    "    n = lower_bound\n",
    "    while True:\n",
    "        n += 1\n",
    "        if is_amicable(n):\n",
    "            return n\n",
    "        \n",
    "       \n",
    "def is_amicable(num):\n",
    "    divisors = find_divisors(num)\n",
    "    d_sum = sum(divisors)\n",
    "    if d_sum == num:\n",
    "        return False\n",
    "    d_divisors = find_divisors(d_sum)\n",
    "    if sum(d_divisors) == num and sum(divisors) == d_sum:\n",
    "        return True\n",
    "\n",
    "def find_divisors(num):\n",
    "    res = []\n",
    "    x = 1\n",
    "    while x <= num/2:\n",
    "        if num % x == 0:\n",
    "            res.append(x)\n",
    "        x += 1\n",
    "    return res\n",
    "    "
   ]
  }
 ],
 "metadata": {
  "kernelspec": {
   "display_name": "Python 3",
   "language": "python",
   "name": "python3"
  },
  "language_info": {
   "codemirror_mode": {
    "name": "ipython",
    "version": 3
   },
   "file_extension": ".py",
   "mimetype": "text/x-python",
   "name": "python",
   "nbconvert_exporter": "python",
   "pygments_lexer": "ipython3",
   "version": "3.5.1"
  }
 },
 "nbformat": 4,
 "nbformat_minor": 0
}
