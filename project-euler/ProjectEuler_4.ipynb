{
 "cells": [
  {
   "cell_type": "markdown",
   "metadata": {},
   "source": [
    "Largest palindrome product\n",
    "Problem 4\n",
    "A palindromic number reads the same both ways. The largest palindrome made \n",
    "from the product of two 2-digit numbers is 9009 = 91 × 99.\n",
    "\n",
    "Find the largest palindrome made from the product of two 3-digit numbers."
   ]
  },
  {
   "cell_type": "code",
   "execution_count": 3,
   "metadata": {
    "collapsed": false
   },
   "outputs": [
    {
     "data": {
      "text/plain": [
       "100001"
      ]
     },
     "execution_count": 3,
     "metadata": {},
     "output_type": "execute_result"
    }
   ],
   "source": [
    "def largetPalindromeProduct():\n",
    "    \n",
    "    maxno = 100001\n",
    "\n",
    "    for i in range(999, 100, -1):\n",
    "        for j in range(999, 100, -1):\n",
    "            p = i * j\n",
    "            if maxno < p and isPalindrome(p):\n",
    "                maxno = p\n",
    "    return maxno\n",
    "    \n",
    "    \n",
    "def isPalindrome(nr):\n",
    "    rev = 0 \n",
    "    x = nr;                     # store the default value (it will be changed)\n",
    "    while (x > 0):\n",
    "        rev = 10 * rev + x % 10;\n",
    "        x /= 10;\n",
    "\n",
    "    return nr == rev               # returns true if the number is palindrome\n",
    "\n",
    "\n",
    "largetPalindromeProduct()"
   ]
  }
 ],
 "metadata": {
  "kernelspec": {
   "display_name": "Python 3",
   "language": "python",
   "name": "python3"
  },
  "language_info": {
   "codemirror_mode": {
    "name": "ipython",
    "version": 3
   },
   "file_extension": ".py",
   "mimetype": "text/x-python",
   "name": "python",
   "nbconvert_exporter": "python",
   "pygments_lexer": "ipython3",
   "version": "3.5.1"
  }
 },
 "nbformat": 4,
 "nbformat_minor": 0
}
