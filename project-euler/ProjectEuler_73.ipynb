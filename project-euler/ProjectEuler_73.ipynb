{
 "cells": [
  {
   "cell_type": "code",
   "execution_count": 3,
   "metadata": {
    "collapsed": false
   },
   "outputs": [
    {
     "name": "stdout",
     "output_type": "stream",
     "text": [
      "[1, 2, 4]\n"
     ]
    }
   ],
   "source": [
    "\n",
    "def HCF(num,den):\n",
    "    factors_n = list()\n",
    "    factors_d = list()\n",
    "    \n",
    "    for i in range(1,num):\n",
    "        if(num%i==0):\n",
    "           factors_n.append(i)\n",
    "    \n",
    "    for i in range(1,den):\n",
    "        if(den%i==0):\n",
    "           factors_d.append(i)\n",
    "        \n",
    "    return factors_d\n",
    "    \n",
    "    \n",
    "\n",
    "print(HCF(12,8))\n",
    "\n"
   ]
  },
  {
   "cell_type": "code",
   "execution_count": null,
   "metadata": {
    "collapsed": true
   },
   "outputs": [],
   "source": []
  }
 ],
 "metadata": {
  "kernelspec": {
   "display_name": "Python 3",
   "language": "python",
   "name": "python3"
  },
  "language_info": {
   "codemirror_mode": {
    "name": "ipython",
    "version": 3
   },
   "file_extension": ".py",
   "mimetype": "text/x-python",
   "name": "python",
   "nbconvert_exporter": "python",
   "pygments_lexer": "ipython3",
   "version": "3.5.1"
  }
 },
 "nbformat": 4,
 "nbformat_minor": 0
}
