{
 "cells": [
  {
   "cell_type": "code",
   "execution_count": null,
   "metadata": {
    "collapsed": false
   },
   "outputs": [],
   "source": [
    "# The prime factors of 13195 are 5, 7, 13 and 29.\n",
    "# What is the largest prime factor of the number 600851475143 ?\n",
    "\n",
    "\n",
    "num = 600851475143\n",
    "\n",
    "def isnumprime(n):\n",
    "    global primeflag\n",
    "    primeflag=0\n",
    "    for i in range(2,n):\n",
    "        if(n%i == 0):\n",
    "            primeflag=primeflag+1\n",
    "            \n",
    "    if(primeflag>0):\n",
    "        return 0\n",
    "    if(primeflag==0):\n",
    "        return 1\n",
    "\n",
    "factors = list()\n",
    "primefactors = list()\n",
    "            \n",
    "for k in range(2,num):\n",
    "    if(num%k==0):\n",
    "        factors.append(k)\n",
    "\n",
    "for j in factors:\n",
    "    if((isnumprime(j))==1):\n",
    "        primefactors.append(j)\n",
    "\n",
    "print(factors)\n",
    "print(primefactors)\n",
    "print(primefactors[-1])\n"
   ]
  },
  {
   "cell_type": "code",
   "execution_count": null,
   "metadata": {
    "collapsed": true
   },
   "outputs": [],
   "source": []
  }
 ],
 "metadata": {
  "kernelspec": {
   "display_name": "Python 3",
   "language": "python",
   "name": "python3"
  },
  "language_info": {
   "codemirror_mode": {
    "name": "ipython",
    "version": 3
   },
   "file_extension": ".py",
   "mimetype": "text/x-python",
   "name": "python",
   "nbconvert_exporter": "python",
   "pygments_lexer": "ipython3",
   "version": "3.5.1"
  }
 },
 "nbformat": 4,
 "nbformat_minor": 0
}
