{
 "cells": [
  {
   "cell_type": "markdown",
   "metadata": {},
   "source": [
    "merge k sorted lists\n"
   ]
  },
  {
   "cell_type": "code",
   "execution_count": null,
   "metadata": {
    "collapsed": true
   },
   "outputs": [],
   "source": [
    "#merge in linear fashion - time complexity O(n^2)\n",
    "def mergeTwoLists(L1, L2):\n",
    "    len1 = len(L1) #4\n",
    "    len2 = len(L2) #4\n",
    "    \n",
    "    mergeOf2Lists = [] #1, 4, 4,5,6,6,7\n",
    "    i,j = 0\n",
    "    \n",
    "    while(i<len1 || j<len2):    \n",
    "        if i == len(L1):\n",
    "            # read everything from L2\n",
    "            # break\n",
    "        elif j == len(L1):\n",
    "            # merge L1\n",
    "            # break\n",
    "            \n",
    "        if(L1[i]<=L2[j]):\n",
    "            mergeOf2Lists.append(L1[i])\n",
    "            i+=1    #1,2,3\n",
    "        else:\n",
    "            mergeOf2Lists.append(L2[j])\n",
    "            j+=1 #1,2,3,4\n",
    "            \n",
    "    return mergeOf2Lists\n",
    "    \n",
    "def mergeKLists(LofL):\n",
    "    lenLofL = len(LofL)\n",
    "    k = 0\n",
    "\n",
    "    mergedLists = mergeTwoLists(LofL[0],LofL[1])\n",
    "    \n",
    "    for i in range(2,lenLofL):        \n",
    "        mergedLists = mergeTwoLists(mergedLists,LofL[i]))\n",
    "    \n",
    "    return mergedLists\n",
    "\n",
    "\n",
    "LofL = [L1,L2,...,LK]\n",
    "mergeKLists(LofL)\n"
   ]
  },
  {
   "cell_type": "code",
   "execution_count": null,
   "metadata": {
    "collapsed": true
   },
   "outputs": [],
   "source": [
    "#merge in binary fashion - time complexity O(nlogn)\n",
    "\n",
    "def merge_lists(lists):\n",
    "    out = lists[:]\n",
    "    while len(out) > 1:\n",
    "        aux = []\n",
    "        while i < len(out):\n",
    "            aux.append(merge_two_lists(out[i:i+1]))\n",
    "            i += 2\n",
    "        out = aux\n",
    "        \n",
    "  \n"
   ]
  },
  {
   "cell_type": "code",
   "execution_count": null,
   "metadata": {
    "collapsed": true
   },
   "outputs": [],
   "source": [
    "#When amount of data is very large, creating priortiy queues\n",
    "def merge_lists(lists): # 10 lists\n",
    "    out = []\n",
    "    pq = MinPriorityQueue()\n",
    "    for l in lists:\n",
    "        reader = Reader(l)\n",
    "        if not reader.is_empty():\n",
    "            pq.insert(reader.peek(), reader)\n",
    "\n",
    "    while pq.size() > 0:\n",
    "        top = pq.get_top()\n",
    "        out.append(top.peek())\n",
    "        if not top.is_empty():\n",
    "            top.advance()\n",
    "            pq.insert(top.peek(), top)\n",
    "\n",
    "    return out\n",
    "\n",
    "\n",
    "class Reader(object):\n",
    "    def __init__(self, l):\n",
    "        self._list = l\n",
    "        self._i = 0\n",
    "    def is_empty(self):\n",
    "        return self._i > len(self._list)\n",
    "    def peek(self):\n",
    "        return self._list[self._i]\n",
    "    def advance(self):\n",
    "        self._i += 1\n"
   ]
  }
 ],
 "metadata": {
  "kernelspec": {
   "display_name": "Python 3",
   "language": "python",
   "name": "python3"
  },
  "language_info": {
   "codemirror_mode": {
    "name": "ipython",
    "version": 3
   },
   "file_extension": ".py",
   "mimetype": "text/x-python",
   "name": "python",
   "nbconvert_exporter": "python",
   "pygments_lexer": "ipython3",
   "version": "3.5.1"
  }
 },
 "nbformat": 4,
 "nbformat_minor": 0
}
