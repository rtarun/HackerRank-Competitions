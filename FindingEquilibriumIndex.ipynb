{
 "cells": [
  {
   "cell_type": "markdown",
   "metadata": {},
   "source": [
    "A zero-indexed array A consisting of N integers is given. An equilibrium index of this array \n",
    "is any integer P such that 0 ≤ P < N and the sum of elements of lower indices \n",
    "is equal to the sum of elements of higher indices, i.e. \n",
    "A[0] + A[1] + ... + A[P−1] = A[P+1] + ... + A[N−2] + A[N−1].\n",
    "Sum of zero elements is assumed to be equal to 0. This can happen if P = 0 or if P = N−1.\n",
    "\n",
    "For example, consider the following array A consisting of N = 8 elements:\n",
    "\n",
    "  A[0] = -1\n",
    "  A[1] =  3\n",
    "  A[2] = -4\n",
    "  A[3] =  5\n",
    "  A[4] =  1\n",
    "  A[5] = -6\n",
    "  A[6] =  2\n",
    "  A[7] =  1\n",
    "\n",
    "P = 1 is an equilibrium index of this array, because:\n",
    "A[0] = −1 = A[2] + A[3] + A[4] + A[5] + A[6] + A[7]\n",
    "\n",
    "P = 3 is an equilibrium index of this array, because:\n",
    "A[0] + A[1] + A[2] = −2 = A[4] + A[5] + A[6] + A[7]\n",
    "\n",
    "P = 7 is also an equilibrium index, because:\n",
    "\n",
    "A[0] + A[1] + A[2] + A[3] + A[4] + A[5] + A[6] = 0\n",
    "and there are no elements with indices greater than 7.\n",
    "\n",
    "P = 8 is not an equilibrium index, because it does not fulfill the condition 0 ≤ P < N.\n",
    "\n",
    "Write a function:\n",
    "\n",
    "def solution(A)\n",
    "\n",
    "that, given a zero-indexed array A consisting of N integers, returns any of its equilibrium indices. \n",
    "The function should return −1 if no equilibrium index exists.\n",
    "\n",
    "For example, given array A shown above, the function may return 1, 3 or 7, as explained above.\n",
    "\n",
    "Assume that:\n",
    "\n",
    "N is an integer within the range [0..100,000];\n",
    "each element of array A is an integer within the range [−2,147,483,648..2,147,483,647].\n",
    "Complexity:\n",
    "\n",
    "expected worst-case time complexity is O(N);\n",
    "expected worst-case space complexity is O(N), beyond input storage (not counting the storage required for input arguments).\n",
    "\n",
    "Elements of input arrays can be modified."
   ]
  },
  {
   "cell_type": "code",
   "execution_count": 1,
   "metadata": {
    "collapsed": false
   },
   "outputs": [],
   "source": [
    "# you can write to stdout for debugging purposes, e.g.\n",
    "# print \"this is a debug message\"\n",
    "\n",
    "def solution(A):\n",
    "    # write your code in Python 2.7\n",
    "    pass\n",
    "    sumR = sumL = 0\n",
    "    EIList = []\n",
    "    totalSum = sum(A)\n",
    "    for i, j in enumerate(A):\n",
    "        sumL += j\n",
    "        if i<len(A)-1:\n",
    "            sumR = (totalSum - sumL - A[i+1])\n",
    "        if sumR == sumL:\n",
    "            EIList.append(i+1)\n",
    "        print(i, j, sumL, sumR,EIList)\n"
   ]
  },
  {
   "cell_type": "code",
   "execution_count": 2,
   "metadata": {
    "collapsed": false
   },
   "outputs": [
    {
     "name": "stdout",
     "output_type": "stream",
     "text": [
      "0 -1 -1 -1 [1]\n",
      "1 3 2 3 [1]\n",
      "2 -4 -2 -2 [1, 3]\n",
      "3 5 3 -3 [1, 3]\n",
      "4 1 4 3 [1, 3]\n",
      "5 -6 -2 1 [1, 3]\n",
      "6 2 0 0 [1, 3, 7]\n",
      "7 1 1 0 [1, 3, 7]\n"
     ]
    }
   ],
   "source": [
    "test_array = [-1,3,-4,5,1,-6,2,1]\n",
    "solution(test_array)"
   ]
  }
 ],
 "metadata": {
  "kernelspec": {
   "display_name": "Python 3",
   "language": "python",
   "name": "python3"
  },
  "language_info": {
   "codemirror_mode": {
    "name": "ipython",
    "version": 3
   },
   "file_extension": ".py",
   "mimetype": "text/x-python",
   "name": "python",
   "nbconvert_exporter": "python",
   "pygments_lexer": "ipython3",
   "version": "3.5.1"
  }
 },
 "nbformat": 4,
 "nbformat_minor": 0
}
